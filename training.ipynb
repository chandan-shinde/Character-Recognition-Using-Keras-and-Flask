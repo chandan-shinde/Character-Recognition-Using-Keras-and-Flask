{
 "cells": [
  {
   "cell_type": "code",
   "execution_count": 3,
   "metadata": {},
   "outputs": [],
   "source": [
    "import numpy as np\n",
    "import matplotlib.pyplot as plt\n",
    "from extract import Extract\n",
    "from tensorflow.keras.models import Sequential\n",
    "from tensorflow.keras.layers import Conv2D, MaxPool2D, Dense, Dropout, Flatten\n",
    "import tensorflow.keras as ks\n",
    "%matplotlib inline"
   ]
  },
  {
   "cell_type": "code",
   "execution_count": 4,
   "metadata": {},
   "outputs": [
    {
     "name": "stdout",
     "output_type": "stream",
     "text": [
      "Dividing data into 297961 training and 74491 testing samples..\n"
     ]
    }
   ],
   "source": [
    "#Extracting data\n",
    "(x_train,y_train),(x_test,y_test) = Extract('A_Z_Data.csv',0.2)\n",
    "\n",
    "x_train = x_train.reshape(len(x_train),28,28,1)\n",
    "x_test = x_test.reshape(len(x_test),28,28,1)"
   ]
  },
  {
   "cell_type": "code",
   "execution_count": 5,
   "metadata": {},
   "outputs": [],
   "source": [
    "labels=['A','B','C','D','E','F','G','H','I','J','K','L','M','N','O','P','Q','R','S','T','U','V','W','X','Y','Z']"
   ]
  },
  {
   "cell_type": "code",
   "execution_count": 7,
   "metadata": {},
   "outputs": [
    {
     "data": {
      "image/png": "[encoded data removed]",
      "text/plain": [
       "<Figure size 432x288 with 8 Axes>"
      ]
     },
     "metadata": {
      "needs_background": "light"
     },
     "output_type": "display_data"
    }
   ],
   "source": [
    "#lets display some data\n",
    "for i in range(8):\n",
    "    plt.subplot(2,4,i+1)\n",
    "    plt.imshow(x_test[i].reshape(28,28),cmap='binary')\n",
    "    plt.title(labels[np.argmax(y_test[i])])"
   ]
  },
  {
   "cell_type": "code",
   "execution_count": 8,
   "metadata": {},
   "outputs": [
    {
     "name": "stdout",
     "output_type": "stream",
     "text": [
      "WARNING:tensorflow:From d:\\program files\\python37\\lib\\site-packages\\tensorflow\\python\\ops\\init_ops.py:1251: calling VarianceScaling.__init__ (from tensorflow.python.ops.init_ops) with dtype is deprecated and will be removed in a future version.\n",
      "Instructions for updating:\n",
      "Call initializer instance with the dtype argument instead of passing it to the constructor\n",
      "Model: \"sequential\"\n",
      "_________________________________________________________________\n",
      "Layer (type)                 Output Shape              Param #   \n",
      "=================================================================\n",
      "conv1 (Conv2D)               (None, 28, 28, 16)        416       \n",
      "_________________________________________________________________\n",
      "pool1 (MaxPooling2D)         (None, 14, 14, 16)        0         \n",
      "_________________________________________________________________\n",
      "dropout1 (Dropout)           (None, 14, 14, 16)        0         \n",
      "_________________________________________________________________\n",
      "conv2 (Conv2D)               (None, 14, 14, 32)        2080      \n",
      "_________________________________________________________________\n",
      "pool2 (MaxPooling2D)         (None, 7, 7, 32)          0         \n",
      "_________________________________________________________________\n",
      "flat (Flatten)               (None, 1568)              0         \n",
      "_________________________________________________________________\n",
      "dropout2 (Dropout)           (None, 1568)              0         \n",
      "_________________________________________________________________\n",
      "dense (Dense)                (None, 128)               200832    \n",
      "_________________________________________________________________\n",
      "res (Dense)                  (None, 26)                3354      \n",
      "=================================================================\n",
      "Total params: 206,682\n",
      "Trainable params: 206,682\n",
      "Non-trainable params: 0\n",
      "_________________________________________________________________\n"
     ]
    }
   ],
   "source": [
    "#designing the model\n",
    "model = Sequential()\n",
    "model.add(Conv2D(filters=16, kernel_size=5, strides=1, padding='same', activation='relu', input_shape=(28, 28, 1), name='conv1'))\n",
    "model.add(MaxPool2D(pool_size=(2, 2,),name='pool1'))\n",
    "model.add(Dropout(0.2,name='dropout1'))\n",
    "model.add(Conv2D(filters=32, kernel_size=2, strides=1, padding='same', activation='relu',name='conv2'))\n",
    "model.add(MaxPool2D(pool_size=(2, 2),name='pool2'))\n",
    "model.add(Flatten(name='flat'))\n",
    "model.add(Dropout(0.1,name='dropout2'))\n",
    "model.add(Dense(128,activation='relu',name='dense'))\n",
    "model.add(Dense(26,activation='softmax',name='res'))\n",
    "\n",
    "model.summary()"
   ]
  },
  {
   "cell_type": "code",
   "execution_count": 9,
   "metadata": {},
   "outputs": [],
   "source": [
    "model.compile(loss='categorical_crossentropy',optimizer='adam',metrics=['accuracy'])"
   ]
  },
  {
   "cell_type": "code",
   "execution_count": 10,
   "metadata": {},
   "outputs": [
    {
     "name": "stdout",
     "output_type": "stream",
     "text": [
      "Train on 297960 samples, validate on 74491 samples\n",
      "Epoch 1/18\n",
      "297960/297960 [==============================] - 81s 271us/sample - loss: 0.6006 - acc: 0.8311 - val_loss: 0.1801 - val_acc: 0.9522\n",
      "Epoch 2/18\n",
      "297960/297960 [==============================] - 80s 269us/sample - loss: 0.1664 - acc: 0.9535 - val_loss: 0.1139 - val_acc: 0.9687\n",
      "Epoch 3/18\n",
      "297960/297960 [==============================] - 80s 267us/sample - loss: 0.1222 - acc: 0.9658 - val_loss: 0.0876 - val_acc: 0.9764\n",
      "Epoch 4/18\n",
      "297960/297960 [==============================] - 80s 268us/sample - loss: 0.1021 - acc: 0.9715 - val_loss: 0.0765 - val_acc: 0.9787\n",
      "Epoch 5/18\n",
      "297960/297960 [==============================] - 80s 268us/sample - loss: 0.0905 - acc: 0.9747 - val_loss: 0.0678 - val_acc: 0.9810\n",
      "Epoch 6/18\n",
      "297960/297960 [==============================] - 80s 268us/sample - loss: 0.0811 - acc: 0.9770 - val_loss: 0.0635 - val_acc: 0.9829\n",
      "Epoch 7/18\n",
      "297960/297960 [==============================] - 80s 268us/sample - loss: 0.0732 - acc: 0.9794 - val_loss: 0.0579 - val_acc: 0.9839\n",
      "Epoch 8/18\n",
      "297960/297960 [==============================] - 79s 267us/sample - loss: 0.0678 - acc: 0.9808 - val_loss: 0.0538 - val_acc: 0.9858\n",
      "Epoch 9/18\n",
      "297960/297960 [==============================] - 79s 266us/sample - loss: 0.0631 - acc: 0.9820 - val_loss: 0.0522 - val_acc: 0.9858\n",
      "Epoch 10/18\n",
      "297960/297960 [==============================] - 79s 266us/sample - loss: 0.0594 - acc: 0.9829 - val_loss: 0.0502 - val_acc: 0.9861\n",
      "Epoch 11/18\n",
      "297960/297960 [==============================] - 80s 267us/sample - loss: 0.0564 - acc: 0.9838 - val_loss: 0.0478 - val_acc: 0.9871\n",
      "Epoch 12/18\n",
      "297960/297960 [==============================] - 79s 266us/sample - loss: 0.0527 - acc: 0.9847 - val_loss: 0.0452 - val_acc: 0.9874\n",
      "Epoch 13/18\n",
      "297960/297960 [==============================] - 79s 266us/sample - loss: 0.0496 - acc: 0.9854 - val_loss: 0.0424 - val_acc: 0.9880\n",
      "Epoch 14/18\n",
      "297960/297960 [==============================] - 80s 268us/sample - loss: 0.0473 - acc: 0.9859 - val_loss: 0.0425 - val_acc: 0.9883\n",
      "Epoch 15/18\n",
      "297960/297960 [==============================] - 79s 266us/sample - loss: 0.0450 - acc: 0.9868 - val_loss: 0.0405 - val_acc: 0.9886\n",
      "Epoch 16/18\n",
      "297960/297960 [==============================] - 79s 265us/sample - loss: 0.0431 - acc: 0.9872 - val_loss: 0.0411 - val_acc: 0.9882\n",
      "Epoch 17/18\n",
      "297960/297960 [==============================] - 79s 266us/sample - loss: 0.0409 - acc: 0.9877 - val_loss: 0.0398 - val_acc: 0.9885\n",
      "Epoch 18/18\n",
      "297960/297960 [==============================] - 79s 265us/sample - loss: 0.0391 - acc: 0.9881 - val_loss: 0.0361 - val_acc: 0.9901\n"
     ]
    }
   ],
   "source": [
    "history = model.fit(x_train, y_train, validation_data=(x_test,y_test), epochs=18, batch_size=1024, verbose=1)"
   ]
  },
  {
   "cell_type": "code",
   "execution_count": 11,
   "metadata": {},
   "outputs": [
    {
     "name": "stdout",
     "output_type": "stream",
     "text": [
      "Train on 297960 samples, validate on 74491 samples\n",
      "297960/297960 [==============================] - 80s 268us/sample - loss: 0.0376 - acc: 0.9885 - val_loss: 0.0362 - val_acc: 0.9898\n"
     ]
    },
    {
     "data": {
      "text/plain": [
       "<tensorflow.python.keras.callbacks.History at 0x179c9c43c48>"
      ]
     },
     "execution_count": 11,
     "metadata": {},
     "output_type": "execute_result"
    }
   ],
   "source": [
    "#one more epoch ¯\\_(ツ)_/¯ \n",
    "model.fit(x_train, y_train, validation_data=(x_test,y_test), epochs=1, batch_size=1024, verbose=1)"
   ]
  },
  {
   "cell_type": "code",
   "execution_count": 12,
   "metadata": {},
   "outputs": [
    {
     "data": {
      "text/plain": [
       "<matplotlib.legend.Legend at 0x179c9c54548>"
      ]
     },
     "execution_count": 12,
     "metadata": {},
     "output_type": "execute_result"
    },
    {
     "data": {
      "image/png": "[encoded data removed]",
      "text/plain": [
       "<Figure size 432x288 with 1 Axes>"
      ]
     },
     "metadata": {
      "needs_background": "light"
     },
     "output_type": "display_data"
    }
   ],
   "source": [
    "plt.plot(history.history['loss'])\n",
    "plt.plot(history.history['val_loss'])\n",
    "plt.title('Model loss')\n",
    "plt.ylabel('Loss')\n",
    "plt.xlabel('Epoch')\n",
    "plt.legend(['Train', 'Test'], loc='upper left')"
   ]
  },
  {
   "cell_type": "code",
   "execution_count": 13,
   "metadata": {},
   "outputs": [],
   "source": [
    "model.save(\"model.h5\")"
   ]
  },
  {
   "cell_type": "code",
   "execution_count": null,
   "metadata": {},
   "outputs": [],
   "source": []
  }
 ],
 "metadata": {
  "kernelspec": {
   "display_name": "Python 3",
   "language": "python",
   "name": "python3"
  },
  "language_info": {
   "codemirror_mode": {
    "name": "ipython",
    "version": 3
   },
   "file_extension": ".py",
   "mimetype": "text/x-python",
   "name": "python",
   "nbconvert_exporter": "python",
   "pygments_lexer": "ipython3",
   "version": "3.7.4"
  }
 },
 "nbformat": 4,
 "nbformat_minor": 2
}
